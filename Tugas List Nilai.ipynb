{
 "cells": [
  {
   "cell_type": "markdown",
   "metadata": {},
   "source": [
    "# TUGAS LIST NILAI"
   ]
  },
  {
   "cell_type": "code",
   "execution_count": 10,
   "metadata": {},
   "outputs": [
    {
     "name": "stdout",
     "output_type": "stream",
     "text": [
      "[36, 28, 85, 27, 75, 92, 32, 26, 6, 1, 58, 96, 18, 34, 46, 38, 80, 83, 85, 8, 12, 63, 41, 69, 82, 86, 3, 34, 31, 69, 73, 64, 86, 49, 60, 15, 46, 13, 70, 48, 31, 84, 78, 93, 6, 22, 5, 89, 1, 37, 46, 4, 24, 64, 47, 57, 59, 46, 77, 80, 15, 82, 86, 87, 43, 18, 31, 30, 53, 38, 25, 11, 39, 22, 40, 29, 44, 24, 2, 74, 4, 24, 47, 53, 11, 65, 77, 53, 23, 60, 77, 73, 15, 76, 36, 28, 91, 90, 9, 14, 83, 57, 70, 68, 71, 32, 88, 49, 58, 57, 69, 22, 21, 4, 7, 99, 48, 86, 47, 24, 86, 89, 6, 92, 92, 44, 36, 84, 80, 13, 76, 58, 50, 55, 12, 78, 30, 73, 56, 59, 60, 41, 66, 29, 12, 45, 42, 89, 53, 19, 34, 88, 44, 49, 31, 58, 10, 53, 15, 53, 91, 37, 80, 18, 93, 75, 73, 16, 94, 33, 30, 16, 7, 3, 59, 76, 84, 36, 71, 46, 26, 54, 94, 88, 36, 51, 62, 34, 50, 45, 65, 76, 72, 7, 18, 73, 26, 97, 13, 81, 4, 97, 4, 33, 13, 74, 51, 65, 70, 70, 37, 82, 88, 35, 48, 23, 22, 2, 1, 64, 76, 30, 7, 18, 85, 22, 61, 83, 16, 68, 72, 88, 56, 2, 69, 64, 2, 24, 50, 11, 58, 42, 56, 94, 81, 69, 14, 84, 90, 68]\n"
     ]
    }
   ],
   "source": [
    "#GENERATE RANDOM\n",
    "\n",
    "import random\n",
    "\n",
    "nilaiTugas = []\n",
    "for i in range(250):\n",
    "    nilaiTugas.append(random.randrange(1,100,1))\n",
    "    \n",
    "print(nilaiTugas)"
   ]
  },
  {
   "cell_type": "code",
   "execution_count": 18,
   "metadata": {},
   "outputs": [
    {
     "name": "stdout",
     "output_type": "stream",
     "text": [
      "85\n",
      "27\n",
      "75\n",
      "1\n",
      "83\n",
      "85\n",
      "63\n",
      "41\n",
      "69\n",
      "3\n",
      "31\n",
      "69\n",
      "73\n",
      "49\n",
      "15\n",
      "13\n",
      "31\n",
      "93\n",
      "5\n",
      "89\n",
      "1\n",
      "37\n",
      "47\n",
      "57\n",
      "59\n",
      "77\n",
      "15\n",
      "87\n",
      "43\n",
      "31\n",
      "53\n",
      "25\n",
      "11\n",
      "39\n",
      "29\n",
      "47\n",
      "53\n",
      "11\n",
      "65\n",
      "77\n",
      "53\n",
      "23\n",
      "77\n",
      "73\n",
      "15\n",
      "91\n",
      "9\n",
      "83\n",
      "57\n",
      "71\n",
      "49\n",
      "57\n",
      "69\n",
      "21\n",
      "7\n",
      "99\n",
      "47\n",
      "89\n",
      "13\n",
      "55\n",
      "73\n",
      "59\n",
      "41\n",
      "29\n",
      "45\n",
      "89\n",
      "53\n",
      "19\n",
      "49\n",
      "31\n",
      "53\n",
      "15\n",
      "53\n",
      "91\n",
      "37\n",
      "93\n",
      "75\n",
      "73\n",
      "33\n",
      "7\n",
      "3\n",
      "59\n",
      "71\n",
      "51\n",
      "45\n",
      "65\n",
      "7\n",
      "73\n",
      "97\n",
      "13\n",
      "81\n",
      "97\n",
      "33\n",
      "13\n",
      "51\n",
      "65\n",
      "37\n",
      "35\n",
      "23\n",
      "1\n",
      "7\n",
      "85\n",
      "61\n",
      "83\n",
      "69\n",
      "11\n",
      "81\n",
      "69\n"
     ]
    }
   ],
   "source": [
    "#GANJIL\n",
    "\n",
    "for ganjil in nilaiTugas:\n",
    "    if (ganjil % 2 != 0):\n",
    "        print(ganjil)"
   ]
  },
  {
   "cell_type": "code",
   "execution_count": 19,
   "metadata": {},
   "outputs": [
    {
     "name": "stdout",
     "output_type": "stream",
     "text": [
      "85\n",
      "75\n",
      "92\n",
      "96\n",
      "80\n",
      "83\n",
      "85\n",
      "82\n",
      "86\n",
      "73\n",
      "86\n",
      "84\n",
      "78\n",
      "93\n",
      "89\n",
      "77\n",
      "80\n",
      "82\n",
      "86\n",
      "87\n",
      "74\n",
      "77\n",
      "77\n",
      "73\n",
      "76\n",
      "91\n",
      "90\n",
      "83\n",
      "71\n",
      "88\n",
      "99\n",
      "86\n",
      "86\n",
      "89\n",
      "92\n",
      "92\n",
      "84\n",
      "80\n",
      "76\n",
      "78\n",
      "73\n",
      "89\n",
      "88\n",
      "91\n",
      "80\n",
      "93\n",
      "75\n",
      "73\n",
      "94\n",
      "76\n",
      "84\n",
      "71\n",
      "94\n",
      "88\n",
      "76\n",
      "72\n",
      "73\n",
      "97\n",
      "81\n",
      "97\n",
      "74\n",
      "82\n",
      "88\n",
      "76\n",
      "85\n",
      "83\n",
      "72\n",
      "88\n",
      "94\n",
      "81\n",
      "84\n",
      "90\n"
     ]
    }
   ],
   "source": [
    "#NILAI > 70\n",
    "\n",
    "for lebih_dari_70 in nilaiTugas:\n",
    "    if(lebih_dari_70 > 70):\n",
    "        print(lebih_dari_70)"
   ]
  },
  {
   "cell_type": "code",
   "execution_count": 22,
   "metadata": {},
   "outputs": [
    {
     "name": "stdout",
     "output_type": "stream",
     "text": [
      "28.147449969029807\n"
     ]
    },
    {
     "data": {
      "text/plain": [
       "28.147449969029807"
      ]
     },
     "execution_count": 22,
     "metadata": {},
     "output_type": "execute_result"
    }
   ],
   "source": [
    "#STANDAR DEVIASI\n",
    "\n",
    "#Cara 1\n",
    "total1 = 0\n",
    "for a in nilaiTugas:\n",
    "    total1 = total1 + a**2\n",
    "    \n",
    "total2 = 0\n",
    "for b in nilaiTugas:\n",
    "    total2 = total2 + float(b)\n",
    "    \n",
    "standarDeviasi = ((len(nilaiTugas)*(total1)-(total2**2))/((len(nilaiTugas))*(len(nilaiTugas)-1))) ** 0.5\n",
    "\n",
    "print(standarDeviasi)\n",
    "\n",
    "\n",
    "###########################\n",
    "\n",
    "#cara 2\n",
    "import statistics\n",
    "\n",
    "statistics.stdev(nilaiTugas)"
   ]
  },
  {
   "cell_type": "code",
   "execution_count": 16,
   "metadata": {},
   "outputs": [
    {
     "name": "stdout",
     "output_type": "stream",
     "text": [
      "99\n"
     ]
    }
   ],
   "source": [
    "#MAKSIMUM\n",
    "\n",
    "print(max(nilaiTugas))"
   ]
  },
  {
   "cell_type": "code",
   "execution_count": 17,
   "metadata": {},
   "outputs": [
    {
     "name": "stdout",
     "output_type": "stream",
     "text": [
      "1\n"
     ]
    }
   ],
   "source": [
    "#MINIMUM\n",
    "\n",
    "print(min(nilaiTugas))"
   ]
  },
  {
   "cell_type": "code",
   "execution_count": 25,
   "metadata": {},
   "outputs": [
    {
     "name": "stdout",
     "output_type": "stream",
     "text": [
      "53\n"
     ]
    },
    {
     "data": {
      "text/plain": [
       "53"
      ]
     },
     "execution_count": 25,
     "metadata": {},
     "output_type": "execute_result"
    }
   ],
   "source": [
    "#MODUS\n",
    "\n",
    "#Cara 1\n",
    "def modus(nilaiTugas):\n",
    "    list_table = statistics._counts(nilaiTugas)\n",
    "    len_table = len(list_table)\n",
    "\n",
    "    if len_table == 1:\n",
    "        max_mode = statistics.mode(nilaiTugas)\n",
    "    else:\n",
    "        new_list = []\n",
    "        for i in range(len_table):\n",
    "            new_list.append(list_table[i][0])\n",
    "        max_mode = max(new_list)\n",
    "    return max_mode\n",
    "\n",
    "if __name__ == '__main__':\n",
    "    a = nilaiTugas\n",
    "    print(modus(a))\n",
    "    \n",
    "#################################\n",
    "\n",
    "#Cara 2\n",
    "statistics.mode(nilaiTugas)"
   ]
  }
 ],
 "metadata": {
  "kernelspec": {
   "display_name": "Python 3",
   "language": "python",
   "name": "python3"
  },
  "language_info": {
   "codemirror_mode": {
    "name": "ipython",
    "version": 3
   },
   "file_extension": ".py",
   "mimetype": "text/x-python",
   "name": "python",
   "nbconvert_exporter": "python",
   "pygments_lexer": "ipython3",
   "version": "3.7.0"
  }
 },
 "nbformat": 4,
 "nbformat_minor": 2
}
