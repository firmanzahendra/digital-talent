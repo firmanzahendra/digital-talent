{
 "cells": [
  {
   "cell_type": "markdown",
   "metadata": {},
   "source": [
    "=LATIHAN TUGAS BMI"
   ]
  },
  {
   "cell_type": "code",
   "execution_count": 2,
   "metadata": {},
   "outputs": [
    {
     "name": "stdout",
     "output_type": "stream",
     "text": [
      "overweight\n"
     ]
    }
   ],
   "source": [
    "weight = 75\n",
    "height = 170\n",
    "\n",
    "bmi = (weight/(height ** 2))*10000\n",
    "\n",
    "if bmi < 15 :\n",
    "    print('very severely underweight')\n",
    "elif bmi < 16 :\n",
    "    print('severely underweight')\n",
    "elif bmi < 18.5 :\n",
    "    print('underweight')\n",
    "elif bmi < 25 :\n",
    "    print('normal(healthy weight)')\n",
    "elif bmi < 30 :\n",
    "    print('overweight')\n",
    "elif bmi < 35 :\n",
    "    print('moderately obese')\n",
    "elif bmi < 40 :\n",
    "    print('severely obese')\n",
    "elif bmi >= 40 :\n",
    "    print('very severely obese')"
   ]
  },
  {
   "cell_type": "code",
   "execution_count": null,
   "metadata": {},
   "outputs": [],
   "source": []
  }
 ],
 "metadata": {
  "kernelspec": {
   "display_name": "Python 3",
   "language": "python",
   "name": "python3"
  },
  "language_info": {
   "codemirror_mode": {
    "name": "ipython",
    "version": 3
   },
   "file_extension": ".py",
   "mimetype": "text/x-python",
   "name": "python",
   "nbconvert_exporter": "python",
   "pygments_lexer": "ipython3",
   "version": "3.7.0"
  }
 },
 "nbformat": 4,
 "nbformat_minor": 2
}
